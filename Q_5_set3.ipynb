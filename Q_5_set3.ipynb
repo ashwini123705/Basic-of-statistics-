{
 "cells": [
  {
   "cell_type": "markdown",
   "id": "7fd16bec",
   "metadata": {},
   "source": [
    "5.\tIn January 2005, a company that monitors Internet traffic (WebSideStory) reported that its sampling revealed that the Mozilla Firefox browser launched in 2004 had grabbed a 4.6% share of the market.\n",
    "\n",
    "I.\tIf the sample were based on 2,000 users, could Microsoft conclude that Mozilla has a less than 5% share of the market?\n",
    "\n",
    "II.\tWebSideStory claims that its sample includes all the daily Internet users. If that’s the case, then can Microsoft conclude that Mozilla has a less than 5% share of the market?\n"
   ]
  },
  {
   "cell_type": "code",
   "execution_count": 1,
   "id": "fdb9d6f5",
   "metadata": {},
   "outputs": [],
   "source": [
    "import scipy.stats as stats\n",
    "import math"
   ]
  },
  {
   "cell_type": "code",
   "execution_count": 2,
   "id": "46a866b3",
   "metadata": {},
   "outputs": [],
   "source": [
    "#Given Data \n",
    "n = 2000 #sample size\n",
    "x = 0.046 #sample mean\n",
    "p = 0.05 #population mean"
   ]
  },
  {
   "cell_type": "code",
   "execution_count": 3,
   "id": "68dba076",
   "metadata": {},
   "outputs": [],
   "source": [
    "#the population std dev is not given, so we estimate it using the assumed popuplation proportion\n",
    "#The formula for z-score is x-p/sqrt((p(1-p)))\n",
    "#p(1-p)/n is the part of standard error formula \n",
    "#we use this formula when we estimating the population standard deviation of a population proporation in a binomial."
   ]
  },
  {
   "cell_type": "code",
   "execution_count": 15,
   "id": "2d973e3a",
   "metadata": {},
   "outputs": [],
   "source": [
    "a = x - p"
   ]
  },
  {
   "cell_type": "code",
   "execution_count": 16,
   "id": "343ac145",
   "metadata": {},
   "outputs": [],
   "source": [
    "b =  math.sqrt((p*(1-p)) / n)"
   ]
  },
  {
   "cell_type": "code",
   "execution_count": 18,
   "id": "f9bc822a",
   "metadata": {},
   "outputs": [
    {
     "data": {
      "text/plain": [
       "-0.820782681668124"
      ]
     },
     "execution_count": 18,
     "metadata": {},
     "output_type": "execute_result"
    }
   ],
   "source": [
    "z = a/b\n",
    "z"
   ]
  },
  {
   "cell_type": "code",
   "execution_count": 19,
   "id": "e707078a",
   "metadata": {},
   "outputs": [
    {
     "data": {
      "text/plain": [
       "0.20588503245107104"
      ]
     },
     "execution_count": 19,
     "metadata": {},
     "output_type": "execute_result"
    }
   ],
   "source": [
    "#find the probability assuming null hyposthesis, so as to compare with type-1 error alpha = 0.05\n",
    "p_value=1-stats.norm.cdf(abs(z))\n",
    "p_value"
   ]
  },
  {
   "cell_type": "code",
   "execution_count": null,
   "id": "f9bf6e67",
   "metadata": {},
   "outputs": [],
   "source": []
  }
 ],
 "metadata": {
  "kernelspec": {
   "display_name": "Python 3 (ipykernel)",
   "language": "python",
   "name": "python3"
  },
  "language_info": {
   "codemirror_mode": {
    "name": "ipython",
    "version": 3
   },
   "file_extension": ".py",
   "mimetype": "text/x-python",
   "name": "python",
   "nbconvert_exporter": "python",
   "pygments_lexer": "ipython3",
   "version": "3.11.5"
  }
 },
 "nbformat": 4,
 "nbformat_minor": 5
}
