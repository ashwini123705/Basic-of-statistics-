{
 "cells": [
  {
   "cell_type": "markdown",
   "id": "53b328c9",
   "metadata": {},
   "source": [
    "To prepare a report on the economy, analysts need to estimate the percentage of businesses that plan to hire additional employees in the next 60 days.\n",
    "\n",
    "8.\tHow many randomly selected employers (minimum number) must we contact in order to guarantee a margin of error of no more than 4% (at 95% confidence)?\n",
    "\n",
    "A.\t600\n",
    "B.\t400\n",
    "C.\t550\n",
    "D.\t1000\n"
   ]
  },
  {
   "cell_type": "code",
   "execution_count": 1,
   "id": "a30c4c49",
   "metadata": {},
   "outputs": [],
   "source": [
    "#To find sample size (n) the formula is n = z^2 * p * (1 - p)/ E^2\n",
    "#here, z is z-score \n",
    "#p is estimated proportion (we want to be conservative, so we'll use 0.5)\n",
    "#E is margin of error"
   ]
  },
  {
   "cell_type": "code",
   "execution_count": 2,
   "id": "4921b95f",
   "metadata": {},
   "outputs": [],
   "source": [
    "#Given Data \n",
    "z = 1.96 #for 95% confidence level, z is 1.96\n",
    "p = 0.5\n",
    "E = 0.04 #the decimal for of 4%"
   ]
  },
  {
   "cell_type": "code",
   "execution_count": 3,
   "id": "7b1157b9",
   "metadata": {},
   "outputs": [],
   "source": [
    "#Substituting the formula\n",
    "n = ((z**2) * p * (1 - p)) / (E**2)"
   ]
  },
  {
   "cell_type": "code",
   "execution_count": 4,
   "id": "9f71dfd6",
   "metadata": {},
   "outputs": [
    {
     "data": {
      "text/plain": [
       "600.2499999999999"
      ]
     },
     "execution_count": 4,
     "metadata": {},
     "output_type": "execute_result"
    }
   ],
   "source": [
    "n"
   ]
  },
  {
   "cell_type": "code",
   "execution_count": null,
   "id": "556b08ab",
   "metadata": {},
   "outputs": [],
   "source": [
    "#Since we can't have a fraction of a person, we round up to the nearest whole number. Therefore, the minimum number of randomly selected employers needed is 601.\n",
    "#However, none of the given options matches this calculation exactly. Option A (600) is closest, but it's not exactly accurate. If this is a multiple-choice question, you might need to choose the closest option, which would be A."
   ]
  }
 ],
 "metadata": {
  "kernelspec": {
   "display_name": "Python 3 (ipykernel)",
   "language": "python",
   "name": "python3"
  },
  "language_info": {
   "codemirror_mode": {
    "name": "ipython",
    "version": 3
   },
   "file_extension": ".py",
   "mimetype": "text/x-python",
   "name": "python",
   "nbconvert_exporter": "python",
   "pygments_lexer": "ipython3",
   "version": "3.11.5"
  }
 },
 "nbformat": 4,
 "nbformat_minor": 5
}
