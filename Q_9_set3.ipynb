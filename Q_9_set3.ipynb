{
 "cells": [
  {
   "cell_type": "markdown",
   "id": "78bfd747",
   "metadata": {},
   "source": [
    "9. To prepare a report on the economy, analysts need to estimate the percentage of businesses that plan to hire additional employees in the next 60 days.\n",
    "Suppose we want the above margin of error to be based on a 98% confidence level. What sample size (minimum) must we now use?"
   ]
  },
  {
   "cell_type": "code",
   "execution_count": 1,
   "id": "a5c0f122",
   "metadata": {},
   "outputs": [],
   "source": [
    "#To find sample size (n) the formula is n = z^2 * p * (1 - p)/ E^2\n",
    "#here, z is z-score \n",
    "#p is estimated proportion (we want to be conservative, so we'll use 0.5)\n",
    "#E is margin of error"
   ]
  },
  {
   "cell_type": "code",
   "execution_count": 2,
   "id": "4a4345a5",
   "metadata": {},
   "outputs": [],
   "source": [
    "#Given Data \n",
    "z = 2.33 #for 98% confidence level, z is 2.33\n",
    "p = 0.5\n",
    "E = 0.04 #the decimal for of 4%"
   ]
  },
  {
   "cell_type": "code",
   "execution_count": 3,
   "id": "1c12960c",
   "metadata": {},
   "outputs": [],
   "source": [
    "#Substituting the formula\n",
    "n = ((z**2) * p * (1 - p)) / (E**2)"
   ]
  },
  {
   "cell_type": "code",
   "execution_count": 4,
   "id": "515da0e6",
   "metadata": {},
   "outputs": [
    {
     "data": {
      "text/plain": [
       "848.265625"
      ]
     },
     "execution_count": 4,
     "metadata": {},
     "output_type": "execute_result"
    }
   ],
   "source": [
    "n"
   ]
  },
  {
   "cell_type": "code",
   "execution_count": null,
   "id": "55e01d28",
   "metadata": {},
   "outputs": [],
   "source": [
    "#Since we can't have a fraction of a person, we round up to the nearest whole number. Therefore, the minimum number of randomly selected employers needed is 849.\n",
    "#However, none of the given options matches this calculation exactly. Option C (849) is closest, but it's not exactly accurate. If this is a multiple-choice question, you might need to choose the closest option, which would be C."
   ]
  }
 ],
 "metadata": {
  "kernelspec": {
   "display_name": "Python 3 (ipykernel)",
   "language": "python",
   "name": "python3"
  },
  "language_info": {
   "codemirror_mode": {
    "name": "ipython",
    "version": 3
   },
   "file_extension": ".py",
   "mimetype": "text/x-python",
   "name": "python",
   "nbconvert_exporter": "python",
   "pygments_lexer": "ipython3",
   "version": "3.11.5"
  }
 },
 "nbformat": 4,
 "nbformat_minor": 5
}
